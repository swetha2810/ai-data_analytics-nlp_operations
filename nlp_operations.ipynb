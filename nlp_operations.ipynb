{
  "nbformat": 4,
  "nbformat_minor": 0,
  "metadata": {
    "colab": {
      "name": "nlp_operations.ipynb",
      "provenance": [],
      "authorship_tag": "ABX9TyOgLN89paR95np6JuIdbiBY",
      "include_colab_link": true
    },
    "kernelspec": {
      "name": "python3",
      "display_name": "Python 3"
    }
  },
  "cells": [
    {
      "cell_type": "markdown",
      "metadata": {
        "id": "view-in-github",
        "colab_type": "text"
      },
      "source": [
        "<a href=\"https://colab.research.google.com/github/swetha2810/ai-data_analytics-nlp_operations/blob/master/nlp_operations.ipynb\" target=\"_parent\"><img src=\"https://colab.research.google.com/assets/colab-badge.svg\" alt=\"Open In Colab\"/></a>"
      ]
    },
    {
      "cell_type": "code",
      "metadata": {
        "id": "i5WGreTQjLWU",
        "colab_type": "code",
        "colab": {}
      },
      "source": [
        "import nltk\n",
        "#nltk.download('all')"
      ],
      "execution_count": 0,
      "outputs": []
    },
    {
      "cell_type": "code",
      "metadata": {
        "id": "7G4iDGGCkKPb",
        "colab_type": "code",
        "colab": {}
      },
      "source": [
        "from urllib import request\n",
        "from bs4 import BeautifulSoup\n",
        "import time\n",
        "import re\n",
        "url='https://en.wikipedia.org/wiki/Machine_learning'\n",
        "htmldata=request.urlopen(url)\n",
        "#htmldata.read()\n",
        "soupdata=BeautifulSoup(htmldata,'html5lib')\n",
        "ptagdata=soupdata.findAll('p')\n",
        "mydata=\"\"\n",
        "for i in ptagdata:\n",
        " mydata+=i.text\n",
        " time.sleep(1)\n",
        "webdata=mydata\n"
      ],
      "execution_count": 0,
      "outputs": []
    },
    {
      "cell_type": "code",
      "metadata": {
        "id": "mEJ_ImvTnAAi",
        "colab_type": "code",
        "colab": {}
      },
      "source": [
        "from nltk.tokenize import sent_tokenize\n"
      ],
      "execution_count": 0,
      "outputs": []
    },
    {
      "cell_type": "code",
      "metadata": {
        "id": "XJ4H4t1PnHc5",
        "colab_type": "code",
        "colab": {
          "base_uri": "https://localhost:8080/",
          "height": 1000
        },
        "outputId": "09312eae-44d1-4f29-db3c-8ac0a0fc3d29"
      },
      "source": [
        "import time\n",
        "sentences=sent_tokenize(webdata)\n",
        "\n",
        "for sent in sentences:\n",
        "  print(sent)\n",
        "  time.sleep(1)\n",
        " "
      ],
      "execution_count": 8,
      "outputs": [
        {
          "output_type": "stream",
          "text": [
            "Machine learning (ML) is the scientific study of algorithms and statistical models that computer systems use to perform a specific task without using explicit instructions, relying on patterns and inference instead.\n",
            "It is seen as a subset of artificial intelligence.\n",
            "Machine learning algorithms build a mathematical model based on sample data, known as \"training data\", in order to make predictions or decisions without being explicitly programmed to perform the task.\n",
            "[1][2]:2 Machine learning algorithms are used in a wide variety of applications, such as email filtering and computer vision, where it is difficult or infeasible to develop a conventional algorithm for effectively performing the task.\n",
            "Machine learning is closely related to computational statistics, which focuses on making predictions using computers.\n",
            "The study of mathematical optimization delivers methods, theory and application domains to the field of machine learning.\n",
            "Data mining is a field of study within machine learning, and focuses on exploratory data analysis through unsupervised learning.\n",
            "[3][4] In its application across business problems, machine learning is also referred to as predictive analytics.\n",
            "The name machine learning was coined in 1959 by Arthur Samuel.\n",
            "[5] Tom M. Mitchell provided a widely quoted, more formal definition of the algorithms studied in the machine learning field: \"A computer program is said to learn from experience E with respect to some class of tasks T and performance measure P if its performance at tasks in T, as measured by P,  improves with experience E.\"[6] This definition of the tasks in which machine learning is concerned offers a fundamentally operational definition rather than defining the field in cognitive terms.\n",
            "This follows Alan Turing's proposal in his paper \"Computing Machinery and Intelligence\", in which the question \"Can machines think?\"\n",
            "is replaced with the question \"Can machines do what we (as thinking entities) can do?\".\n",
            "[7] In Turing's proposal the various characteristics that could be possessed by a thinking machine and the various implications in constructing one are exposed.\n",
            "Machine learning tasks are classified into several broad categories.\n",
            "In supervised learning, the algorithm builds a mathematical model from a set of data that contains both the inputs and the desired outputs.\n",
            "For example, if the task were determining whether an image contained a certain object, the training data for a supervised learning algorithm would include images with and without that object (the input), and each image would have a label (the output) designating whether it contained the object.\n",
            "In special cases, the input may be only partially available, or restricted to special feedback.\n",
            "[clarification needed] Semi-supervised learning algorithms develop mathematical models from incomplete training data, where a portion of the sample input doesn't have labels.\n",
            "Classification algorithms and regression algorithms are types of supervised learning.\n",
            "Classification algorithms are used when the outputs are restricted to a limited set of values.\n",
            "For a classification algorithm that filters emails, the input would be an incoming email, and the output would be the name of the folder in which to file the email.\n",
            "For an algorithm that identifies spam emails, the output would be the prediction of either \"spam\" or \"not spam\", represented by the Boolean values true and false.\n",
            "Regression algorithms are named for their continuous outputs, meaning they may have any value within a range.\n",
            "Examples of a continuous value are the temperature, length, or price of an object.\n",
            "In unsupervised learning, the algorithm builds a mathematical model from a set of data that contains only inputs and no desired output labels.\n",
            "Unsupervised learning algorithms are used to find structure in the data, like grouping or clustering of data points.\n",
            "Unsupervised learning can discover patterns in the data, and can group the inputs into categories, as in feature learning.\n",
            "Dimensionality reduction is the process of reducing the number of \"features\", or inputs, in a set of data.\n",
            "Active learning algorithms access the desired outputs (training labels) for a limited set of inputs based on a budget and optimize the choice of inputs for which it will acquire training labels.\n",
            "When used interactively, these can be presented to a human user for labeling.\n",
            "Reinforcement learning algorithms are given feedback in the form of positive or negative reinforcement in a dynamic environment and are used in autonomous vehicles or in learning to play a game against a human opponent.\n",
            "[2]:3 Other specialized algorithms in machine learning include topic modeling, where the computer program is given a set of natural language documents and finds other documents that cover similar topics.\n",
            "Machine learning algorithms can be used to find the unobservable probability density function in density estimation problems.\n",
            "Meta learning algorithms learn their own inductive bias based on previous experience.\n",
            "In developmental robotics, robot learning algorithms generate their own sequences of learning experiences, also known as a curriculum, to cumulatively acquire new skills through self-guided exploration and social interaction with humans.\n",
            "These robots use guidance mechanisms such as active learning, maturation, motor synergies, and imitation.\n",
            "[clarification needed]\n",
            "Arthur Samuel, an American pioneer in the field of computer gaming and artificial intelligence, coined the term \"Machine Learning\" in 1959 while at IBM.\n",
            "[8] A representative book of the machine learning research during the 1960s was the Nilsson's book on Learning Machines, dealing mostly with machine learning for pattern classification.\n",
            "[9] The interest of machine learning related to pattern recognition continued during the 1970s, as described in the book of Duda and Hart in 1973.\n",
            "[10] In 1981 a report was given on using teaching strategies so that a neural network learns to recognize 40 characters (26 letters, 10 digits, and 4 special symbols) from a computer terminal.\n",
            "[11] \n",
            "As a scientific endeavor, machine learning grew out of the quest for artificial intelligence.\n",
            "Already in the early days of AI as an academic discipline, some researchers were interested in having machines learn from data.\n",
            "They attempted to approach the problem with various symbolic methods, as well as what were then termed \"neural networks\"; these were mostly perceptrons and other models that were later found to be reinventions of the generalized linear models of statistics.\n",
            "[12] Probabilistic reasoning was also employed, especially in automated medical diagnosis.\n",
            "[13]:488\n",
            "However, an increasing emphasis on the logical, knowledge-based approach caused a rift between AI and machine learning.\n",
            "Probabilistic systems were plagued by theoretical and practical problems of data acquisition and representation.\n",
            "[13]:488 By 1980, expert systems had come to dominate AI, and statistics was out of favor.\n",
            "[14] Work on symbolic/knowledge-based learning did continue within AI, leading to inductive logic programming, but the more statistical line of research was now outside the field of AI proper, in pattern recognition and information retrieval.\n",
            "[13]:708–710; 755 Neural networks research had been abandoned by AI and computer science around the same time.\n",
            "This line, too, was continued outside the AI/CS field, as \"connectionism\", by researchers from other disciplines including Hopfield, Rumelhart and Hinton.\n",
            "Their main success came in the mid-1980s with the reinvention of backpropagation.\n",
            "[13]:25\n",
            "Machine learning, reorganized as a separate field, started to flourish in the 1990s.\n",
            "The field changed its goal from achieving artificial intelligence to tackling solvable problems of a practical nature.\n",
            "It shifted focus away from the symbolic approaches it had inherited from AI, and toward methods and models borrowed from statistics and probability theory.\n",
            "[14] It also benefited from the increasing availability of digitized information, and the ability to distribute it via the Internet.\n",
            "Machine learning and data mining often employ the same methods and overlap significantly, but while machine learning focuses on prediction, based on known properties learned from the training data, data mining focuses on the discovery of (previously) unknown properties in the data (this is the analysis step of knowledge discovery in databases).\n",
            "Data mining uses many machine learning methods, but with different goals; on the other hand, machine learning also employs data mining methods as \"unsupervised learning\" or as a preprocessing step to improve learner accuracy.\n",
            "Much of the confusion between these two research communities (which do often have separate conferences and separate journals, ECML PKDD being a major exception) comes from the basic assumptions they work with: in machine learning, performance is usually evaluated with respect to the ability to reproduce known knowledge, while in knowledge discovery and data mining (KDD) the key task is the discovery of previously unknown knowledge.\n",
            "Evaluated with respect to known knowledge, an uninformed (unsupervised) method will easily be outperformed by other supervised methods, while in a typical KDD task, supervised methods cannot be used due to the unavailability of training data.\n",
            "Machine learning also has intimate ties to optimization: many learning problems are formulated as minimization of some loss function on a training set of examples.\n",
            "Loss functions express the discrepancy between the predictions of the model being trained and the actual problem instances (for example, in classification, one wants to assign a label to instances, and models are trained to correctly predict the pre-assigned labels of a set of examples).\n",
            "The difference between the two fields arises from the goal of generalization: while optimization algorithms can minimize the loss on a training set, machine learning is concerned with minimizing the loss on unseen samples.\n",
            "[15]\n",
            "Machine learning and statistics are closely related fields in terms of methods, but distinct in their principal goal: statistics draws population inferences from a sample, while machine learning finds generalizable predictive patterns.\n",
            "[16] According to Michael I. Jordan, the ideas of machine learning, from methodological principles to theoretical tools, have had a long pre-history in statistics.\n",
            "[17] He also suggested the term data science as a placeholder to call the overall field.\n",
            "[17]\n",
            "Leo Breiman distinguished two statistical modeling paradigms: data model and algorithmic model,[18] wherein \"algorithmic model\" means more or less the machine learning algorithms like Random forest.\n",
            "Some statisticians have adopted methods from machine learning, leading to a combined field that they call statistical learning.\n",
            "[19]\n",
            "A core objective of a learner is to generalize from its experience.\n",
            "[2][20] Generalization in this context is the ability of a learning machine to perform accurately on new, unseen examples/tasks after having experienced a learning data set.\n",
            "The training examples come from some generally unknown probability distribution (considered representative of the space of occurrences) and the learner has to build a general model about this space that enables it to produce sufficiently accurate predictions in new cases.\n",
            "The computational analysis of machine learning algorithms and their performance is a branch of theoretical computer science known as computational learning theory.\n",
            "Because training sets are finite and the future is uncertain, learning theory usually does not yield guarantees of the performance of algorithms.\n",
            "Instead, probabilistic bounds on the performance are quite common.\n",
            "The bias–variance decomposition is one way to quantify generalization error.\n",
            "For the best performance in the context of generalization, the complexity of the hypothesis should match the complexity of the function underlying the data.\n",
            "If the hypothesis is less complex than the function, then the model has under fitted the data.\n",
            "If the complexity of the model is increased in response, then the training error decreases.\n",
            "But if the hypothesis is too complex, then the model is subject to overfitting and generalization will be poorer.\n",
            "[21]\n",
            "In addition to performance bounds, learning theorists study the time complexity and feasibility of learning.\n",
            "In computational learning theory, a computation is considered feasible if it can be done in polynomial time.\n",
            "There are two kinds of time complexity results.\n",
            "Positive results show that a certain class of functions can be learned in polynomial time.\n",
            "Negative results show that certain classes cannot be learned in polynomial time.\n",
            "The types of machine learning algorithms differ in their approach, the type of data they input and output, and the type of task or problem that they are intended to solve.\n",
            "Supervised learning algorithms build a mathematical model of a set of data that contains both the inputs and the desired outputs.\n",
            "[22] The data is known as training data, and consists of a set of training examples.\n",
            "Each training example has one or more inputs and the desired output, also known as a supervisory signal.\n",
            "In the mathematical model, each training example is represented by an array or vector, sometimes called a feature vector, and the training data is represented by a matrix.\n",
            "Through iterative optimization of an objective function, supervised learning algorithms learn a function that can be used to predict the output associated with new inputs.\n",
            "[23] An optimal function will allow the algorithm to correctly determine the output for inputs that were not a part of the training data.\n",
            "An algorithm that improves the accuracy of its outputs or predictions over time is said to have learned to perform that task.\n",
            "[6]\n",
            "Supervised learning algorithms include classification and regression.\n",
            "[24] Classification algorithms are used when the outputs are restricted to a limited set of values, and regression algorithms are used when the outputs may have any numerical value within a range.\n",
            "Similarity learning is an area of supervised machine learning closely related to regression and classification, but the goal is to learn from examples using a similarity function that measures how similar or related two objects are.\n",
            "It has applications in ranking, recommendation systems, visual identity tracking, face verification, and speaker verification.\n",
            "In the case of semi-supervised learning algorithms, some of the training examples are missing training labels, but they can nevertheless be used to improve the quality of a model.\n",
            "In weakly supervised learning, the training labels are noisy, limited, or imprecise; however, these labels are often cheaper to obtain, resulting in larger effective training sets.\n",
            "[25]\n",
            "Unsupervised learning algorithms take a set of data that contains only inputs, and find structure in the data, like grouping or clustering of data points.\n",
            "The algorithms, therefore, learn from test data that has not been labeled, classified or categorized.\n",
            "Instead of responding to feedback, unsupervised learning algorithms identify commonalities in the data and react based on the presence or absence of such commonalities in each new piece of data.\n",
            "A central application of unsupervised learning is in the field of density estimation in statistics,[26] though unsupervised learning encompasses other domains involving summarizing and explaining data features.\n",
            "Cluster analysis is the assignment of a set of observations into subsets (called clusters) so that observations within the same cluster are similar according to one or more predesignated criteria, while observations drawn from different clusters are dissimilar.\n",
            "Different clustering techniques make different assumptions on the structure of the data, often defined by some similarity metric and evaluated, for example, by internal compactness, or the similarity between members of the same cluster, and separation, the difference between clusters.\n",
            "Other methods are based on estimated density and graph connectivity.\n",
            "Semi-supervised learning\n",
            "Semi-supervised learning falls between unsupervised learning (without any labeled training data) and supervised learning (with completely labeled training data).\n",
            "Many machine-learning researchers have found that unlabeled data, when used in conjunction with a small amount of labeled data, can produce a considerable improvement in learning accuracy.\n",
            "Reinforcement learning is an area of machine learning concerned with how software agents ought to take actions in an environment so as to maximize some notion of cumulative reward.\n",
            "Due to its generality, the field is studied in many other disciplines, such as game theory, control theory, operations research, information theory, simulation-based optimization, multi-agent systems, swarm intelligence, statistics and genetic algorithms.\n",
            "In machine learning, the environment is typically represented as a Markov Decision Process (MDP).\n",
            "Many reinforcement learning algorithms use dynamic programming techniques.\n",
            "[27] Reinforcement learning algorithms do not assume knowledge of an exact mathematical model of the MDP, and are used when exact models are infeasible.\n",
            "Reinforcement learning algorithms are used in autonomous vehicles or in learning to play a game against a human opponent.\n",
            "Self-learning as machine learning paradigm was introduced in 1982 along with a neural network capable of self-learning  named Crossbar Adaptive Array (CAA).\n",
            "[28] It is a learning with no external rewards and no external teacher advices.\n",
            "The CAA self-learning algorithm computes, in a crossbar fashion, both decisions about actions and emotions (feelings) about consequence situations.\n",
            "The system is driven by the interaction between cognition and emotion.\n",
            "[29]\n",
            "The self-learning algorithm updates a memory matrix W =||w(a,s)|| such that in each iteration executes the following machine learning  routine: \n",
            "It is a system with only one input, situation s, and only one output, action (or behavior) a.\n",
            "There is neither a separate reinforcement input nor an advice input from the environment.\n",
            "The backpropagated value (secondary reinforcement) is the emotion toward the consequence situation.\n",
            "The CAA exists in two environments, one is behavioral environment where it behaves, and the other is genetic environment, wherefrom it initially and only once receives initial emotions about situations to be encountered in the  behavioral environment.\n",
            "After receiving the genome (species) vector from the genetic environment, the CAA learns a goal seeking behavior, in an environment that contains both desirable and undesirable situations.\n",
            "[30]\n",
            "Several learning algorithms aim at discovering better representations of the inputs provided during training.\n",
            "[31] Classic examples include principal components analysis and cluster analysis.\n",
            "Feature learning algorithms, also called representation learning algorithms, often attempt to preserve the information in their input but also transform it in a way that makes it useful, often as a pre-processing step before performing classification or predictions.\n",
            "This technique allows reconstruction of the inputs coming from the unknown data-generating distribution, while not being necessarily faithful to configurations that are implausible under that distribution.\n",
            "This replaces manual feature engineering, and allows a machine to both learn the features and use them to perform a specific task.\n",
            "Feature learning can be either supervised or unsupervised.\n",
            "In supervised feature learning, features are learned using labeled input data.\n",
            "Examples include artificial neural networks, multilayer perceptrons, and supervised dictionary learning.\n",
            "In unsupervised feature learning, features are learned with unlabeled input data.\n",
            "Examples include dictionary learning, independent component analysis, autoencoders, matrix factorization[32] and various forms of clustering.\n",
            "[33][34][35]\n",
            "Manifold learning algorithms attempt to do so under the constraint that the learned representation is low-dimensional.\n",
            "Sparse coding algorithms attempt to do so under the constraint that the learned representation is sparse, meaning that the mathematical model has many zeros.\n",
            "Multilinear subspace learning algorithms aim to learn low-dimensional representations directly from tensor representations for multidimensional data, without reshaping them into higher-dimensional vectors.\n",
            "[36] Deep learning algorithms discover multiple levels of representation, or a hierarchy of features, with higher-level, more abstract features defined in terms of (or generating) lower-level features.\n",
            "It has been argued that an intelligent machine is one that learns a representation that disentangles the underlying factors of variation that explain the observed data.\n",
            "[37]\n",
            "Feature learning is motivated by the fact that machine learning tasks such as classification often require input that is mathematically and computationally convenient to process.\n",
            "However, real-world data such as images, video, and sensory data has not yielded to attempts to algorithmically define specific features.\n",
            "An alternative is to discover such features or representations through examination, without relying on explicit algorithms.\n",
            "Sparse dictionary learning is a feature learning method where a training example is represented as a linear combination of basis functions, and is assumed to be a sparse matrix.\n",
            "The method is strongly NP-hard and difficult to solve approximately.\n",
            "[38] A popular heuristic method for sparse dictionary learning is the K-SVD algorithm.\n"
          ],
          "name": "stdout"
        },
        {
          "output_type": "error",
          "ename": "KeyboardInterrupt",
          "evalue": "ignored",
          "traceback": [
            "\u001b[0;31m---------------------------------------------------------------------------\u001b[0m",
            "\u001b[0;31mKeyboardInterrupt\u001b[0m                         Traceback (most recent call last)",
            "\u001b[0;32m<ipython-input-8-a716d8060060>\u001b[0m in \u001b[0;36m<module>\u001b[0;34m()\u001b[0m\n\u001b[1;32m      4\u001b[0m \u001b[0;32mfor\u001b[0m \u001b[0msent\u001b[0m \u001b[0;32min\u001b[0m \u001b[0msentences\u001b[0m\u001b[0;34m:\u001b[0m\u001b[0;34m\u001b[0m\u001b[0;34m\u001b[0m\u001b[0m\n\u001b[1;32m      5\u001b[0m   \u001b[0mprint\u001b[0m\u001b[0;34m(\u001b[0m\u001b[0msent\u001b[0m\u001b[0;34m)\u001b[0m\u001b[0;34m\u001b[0m\u001b[0;34m\u001b[0m\u001b[0m\n\u001b[0;32m----> 6\u001b[0;31m   \u001b[0mtime\u001b[0m\u001b[0;34m.\u001b[0m\u001b[0msleep\u001b[0m\u001b[0;34m(\u001b[0m\u001b[0;36m1\u001b[0m\u001b[0;34m)\u001b[0m\u001b[0;34m\u001b[0m\u001b[0;34m\u001b[0m\u001b[0m\n\u001b[0m\u001b[1;32m      7\u001b[0m \u001b[0;34m\u001b[0m\u001b[0m\n",
            "\u001b[0;31mKeyboardInterrupt\u001b[0m: "
          ]
        }
      ]
    },
    {
      "cell_type": "code",
      "metadata": {
        "id": "QZ-mUG5BqXoj",
        "colab_type": "code",
        "colab": {}
      },
      "source": [
        "from nltk.tokenize import word_tokenize\n",
        "list_of_words=[]\n",
        "for i in range(len(sentences)): \n",
        "  word_tokenize(sentences[i])"
      ],
      "execution_count": 0,
      "outputs": []
    }
  ]
}