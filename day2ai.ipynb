{
  "nbformat": 4,
  "nbformat_minor": 0,
  "metadata": {
    "colab": {
      "name": "day2ai.ipynb",
      "provenance": [],
      "authorship_tag": "ABX9TyN51TvxzEFHnhXjF+QgS5x6",
      "include_colab_link": true
    },
    "kernelspec": {
      "name": "python3",
      "display_name": "Python 3"
    }
  },
  "cells": [
    {
      "cell_type": "markdown",
      "metadata": {
        "id": "view-in-github",
        "colab_type": "text"
      },
      "source": [
        "<a href=\"https://colab.research.google.com/github/swetha2810/ai-data_analytics-nlp_operations/blob/master/day2ai.ipynb\" target=\"_parent\"><img src=\"https://colab.research.google.com/assets/colab-badge.svg\" alt=\"Open In Colab\"/></a>"
      ]
    },
    {
      "cell_type": "code",
      "metadata": {
        "id": "wU5Gs0cpNq2A",
        "colab_type": "code",
        "colab": {}
      },
      "source": [
        "from bs4 import BeautifulSoup\n",
        "import requests \n",
        "import time"
      ],
      "execution_count": 0,
      "outputs": []
    },
    {
      "cell_type": "code",
      "metadata": {
        "id": "f2mQ1DepZJ9v",
        "colab_type": "code",
        "colab": {}
      },
      "source": [
        "url=\"https://www.worldometers.info/coronavirus/\"\n",
        "htmlpage=requests.get(url)"
      ],
      "execution_count": 0,
      "outputs": []
    },
    {
      "cell_type": "code",
      "metadata": {
        "id": "JSJZZoAEZ1UR",
        "colab_type": "code",
        "colab": {}
      },
      "source": [
        "#print(htmlpage.text)\n",
        "purehtmlpage=htmlpage.content\n",
        "tb=soup=BeautifulSoup(purehtmlpage,'html5lib')\n"
      ],
      "execution_count": 0,
      "outputs": []
    },
    {
      "cell_type": "code",
      "metadata": {
        "id": "Fz_K9eT8cP_L",
        "colab_type": "code",
        "colab": {}
      },
      "source": [
        "tb=soup.find_all('table',class_=\"table table-bordered table-hover main_table_countries\")"
      ],
      "execution_count": 0,
      "outputs": []
    },
    {
      "cell_type": "code",
      "metadata": {
        "id": "aJJVWcrPc307",
        "colab_type": "code",
        "colab": {
          "base_uri": "https://localhost:8080/",
          "height": 185
        },
        "outputId": "fa744ac4-3193-4f8c-8eb1-c9ae75bfa19b"
      },
      "source": [
        "for trr in tb[0].find_all('tr'):\n",
        " for rows in trr.find_all('th'):\n",
        "   print(rows.text)"
      ],
      "execution_count": 20,
      "outputs": [
        {
          "output_type": "stream",
          "text": [
            "Country,Other\n",
            "TotalCases\n",
            "NewCases\n",
            "TotalDeaths\n",
            "NewDeaths\n",
            "TotalRecovered\n",
            "ActiveCases\n",
            "Serious,Critical\n",
            "Tot Cases/1M pop\n",
            "Tot Deaths/1M pop\n"
          ],
          "name": "stdout"
        }
      ]
    },
    {
      "cell_type": "code",
      "metadata": {
        "id": "nHgMyHjZdan4",
        "colab_type": "code",
        "colab": {
          "base_uri": "https://localhost:8080/",
          "height": 1000
        },
        "outputId": "9ad12946-a9a5-4947-e63d-655537e38d69"
      },
      "source": [
        "for trr1 in tb[0].find_all('tr'):\n",
        "  for rows in trr1.find_all('td'):\n",
        "    print(rows.text)\n",
        "    time.sleep(1)"
      ],
      "execution_count": 28,
      "outputs": [
        {
          "output_type": "stream",
          "text": [
            "China\n",
            "81,340\n",
            "+55\n",
            "3,292                                \n",
            "+5\n",
            "74,588\n",
            "3,460\n",
            "1,034\n",
            "57\n",
            "2\n",
            "USA\n",
            "85,625\n",
            "+190\n",
            "1,302                                \n",
            "+7\n",
            "1,868\n",
            "82,455\n",
            "2,122\n",
            "259\n",
            "4\n",
            "Italy\n",
            "80,589\n",
            "\n",
            "8,215                                \n",
            "\n",
            "10,361\n",
            "62,013\n",
            "3,612\n",
            "1,333\n",
            "136\n",
            "Spain\n",
            "57,786\n",
            "\n",
            "4,365                                \n",
            "\n",
            "7,015\n",
            "46,406\n",
            "3,166\n",
            "1,236\n",
            "93\n",
            "Germany\n",
            "47,278\n",
            "+3,340\n",
            "281                                \n",
            "+14\n",
            "5,673\n",
            "41,324\n",
            "23\n",
            "564\n",
            "3\n",
            "Iran\n",
            "32,332\n",
            "+2,926\n",
            "2,378                                \n",
            "+144\n",
            "11,133\n",
            "18,821\n",
            "2,893\n",
            "385\n",
            "28\n",
            "France\n",
            "29,155\n",
            "\n",
            "1,696                                \n",
            "\n",
            "4,948\n",
            "22,511\n",
            "3,375\n",
            "447\n",
            "26\n",
            "Switzerland\n",
            "11,811\n",
            "\n",
            "194                                \n",
            "+2\n",
            "131\n",
            "11,486\n",
            "203\n",
            "1,365\n",
            "22\n",
            "UK\n",
            "11,658\n",
            "\n",
            "578                                \n",
            "\n",
            "135\n",
            "10,945\n",
            "163\n",
            "172\n",
            "9\n",
            "S. Korea\n",
            "9,332\n",
            "+91\n",
            "139                                \n",
            "+8\n",
            "4,528\n",
            "4,665\n",
            "59\n",
            "182\n",
            "3\n",
            "Netherlands\n",
            "7,431\n",
            "\n",
            "434                                \n",
            "\n",
            "3\n"
          ],
          "name": "stdout"
        },
        {
          "output_type": "error",
          "ename": "KeyboardInterrupt",
          "evalue": "ignored",
          "traceback": [
            "\u001b[0;31m---------------------------------------------------------------------------\u001b[0m",
            "\u001b[0;31mKeyboardInterrupt\u001b[0m                         Traceback (most recent call last)",
            "\u001b[0;32m<ipython-input-28-477ba8a7dae0>\u001b[0m in \u001b[0;36m<module>\u001b[0;34m()\u001b[0m\n\u001b[1;32m      2\u001b[0m   \u001b[0;32mfor\u001b[0m \u001b[0mrows\u001b[0m \u001b[0;32min\u001b[0m \u001b[0mtrr1\u001b[0m\u001b[0;34m.\u001b[0m\u001b[0mfind_all\u001b[0m\u001b[0;34m(\u001b[0m\u001b[0;34m'td'\u001b[0m\u001b[0;34m)\u001b[0m\u001b[0;34m:\u001b[0m\u001b[0;34m\u001b[0m\u001b[0;34m\u001b[0m\u001b[0m\n\u001b[1;32m      3\u001b[0m     \u001b[0mprint\u001b[0m\u001b[0;34m(\u001b[0m\u001b[0mrows\u001b[0m\u001b[0;34m.\u001b[0m\u001b[0mtext\u001b[0m\u001b[0;34m)\u001b[0m\u001b[0;34m\u001b[0m\u001b[0;34m\u001b[0m\u001b[0m\n\u001b[0;32m----> 4\u001b[0;31m     \u001b[0mtime\u001b[0m\u001b[0;34m.\u001b[0m\u001b[0msleep\u001b[0m\u001b[0;34m(\u001b[0m\u001b[0;36m1\u001b[0m\u001b[0;34m)\u001b[0m\u001b[0;34m\u001b[0m\u001b[0;34m\u001b[0m\u001b[0m\n\u001b[0m",
            "\u001b[0;31mKeyboardInterrupt\u001b[0m: "
          ]
        }
      ]
    }
  ]
}